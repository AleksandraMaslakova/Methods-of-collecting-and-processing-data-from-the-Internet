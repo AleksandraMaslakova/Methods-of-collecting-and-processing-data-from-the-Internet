{
  "nbformat": 4,
  "nbformat_minor": 0,
  "metadata": {
    "colab": {
      "provenance": []
    },
    "kernelspec": {
      "name": "python3",
      "display_name": "Python 3"
    },
    "language_info": {
      "name": "python"
    }
  },
  "cells": [
    {
      "cell_type": "code",
      "execution_count": 18,
      "metadata": {
        "id": "toVjClMog7_Z"
      },
      "outputs": [],
      "source": [
        "import requests\n",
        "from bs4 import BeautifulSoup\n",
        "from pprint import pprint\n",
        "import json"
      ]
    },
    {
      "cell_type": "code",
      "source": [
        "base_url = 'https://murmansk.hh.ru/'\n",
        "headers = {'User-Agent': \"Mozilla/5.0 (Macintosh; Intel Mac OS X 10_15_7) AppleWebKit/537.36 (KHTML, like Gecko) Chrome/110.0.0.0 Safari/537.36\",\n",
        "           \"Accept\": \"*/*\"}\n",
        "params = {'text': 'pharma'}\n",
        "url = f'{base_url}/search/vacancy'"
      ],
      "metadata": {
        "id": "pQE8xCunkDn9"
      },
      "execution_count": 3,
      "outputs": []
    },
    {
      "cell_type": "code",
      "source": [
        "response = requests.get(url, headers=headers, params=params)"
      ],
      "metadata": {
        "id": "wpcGR6RokUny"
      },
      "execution_count": 4,
      "outputs": []
    },
    {
      "cell_type": "code",
      "source": [
        "dom = BeautifulSoup(response.text, 'html.parser')"
      ],
      "metadata": {
        "id": "ymBNdw_6m6mG"
      },
      "execution_count": 5,
      "outputs": []
    },
    {
      "cell_type": "code",
      "source": [
        "vacancy = dom.find_all('div', {'class': 'vacancy-serp-item__layout'})"
      ],
      "metadata": {
        "id": "gpAEId-IrPh8"
      },
      "execution_count": 6,
      "outputs": []
    },
    {
      "cell_type": "code",
      "source": [
        "vacancy_list = []"
      ],
      "metadata": {
        "id": "AfQPh0e6sNbn"
      },
      "execution_count": 7,
      "outputs": []
    },
    {
      "cell_type": "code",
      "source": [
        "for items in vacancy:\n",
        "  vacancy_data = {}\n",
        "\n",
        "  info = items.find('a', {'class': 'serp-item__title'})\n",
        "  link = base_url + info['href']\n",
        "  name = info.getText()\n",
        "  company = items.find('a', {'class': 'bloko-link_kind-tertiary'}).getText()\n",
        "  views = items.find('div', {'class': 'online-users'})\n",
        "  \n",
        "  try:\n",
        "    salary = items.find('span', {'class': 'bloko-header-section-3'})\n",
        "  \n",
        "    if len(salary.split()) == 6:\n",
        "      min_salary = salary.split()[0] + salary.split()[1]\n",
        "      max_salary = salary.split()[3] + salary.split()[4]\n",
        "      valute = salary.split()[5]\n",
        "\n",
        "    elif len(salary.split()) == 4 and salary.split()[0] == 'от':\n",
        "      min_salary = salary.split()[1] + salary.split()[2]\n",
        "      max_salary = None\n",
        "      valute = salary.split()[3]\n",
        "\n",
        "\n",
        "    else:\n",
        "      min_salary = None\n",
        "      max_salary = salary.split()[1] + salary.split()[2]\n",
        "      valute = salary.split()[3]\n",
        "  except:\n",
        "    min_salary = None\n",
        "    max_salary = None\n",
        "    valute = None\n",
        "\n",
        "  vacancy_data['name'] = name\n",
        "  vacancy_data['link'] = link\n",
        "  vacancy_data['company'] = company\n",
        "  vacancy_data['views'] = views\n",
        "  try:\n",
        "    vacancy_data['min_salary'] = int(min_salary)\n",
        "    vacancy_data['max_salary'] = int(max_salary)\n",
        "    vacancy_data['valute'] = valute\n",
        "  except:\n",
        "    vacancy_data['min_salary'] = min_salary\n",
        "    vacancy_data['max_salary'] = max_salary\n",
        "    vacancy_data['valute'] = valute\n",
        "\n",
        "  vacancy_list.append(vacancy_data)\n",
        "\n",
        "with open('job.json', 'w', encoding='utf-8') as f:\n",
        "    json.dump(vacancy_list, f, ensure_ascii=False)\n"
      ],
      "metadata": {
        "id": "690gQh3wtUPQ"
      },
      "execution_count": 19,
      "outputs": []
    }
  ]
}