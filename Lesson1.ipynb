{
  "nbformat": 4,
  "nbformat_minor": 0,
  "metadata": {
    "colab": {
      "provenance": []
    },
    "kernelspec": {
      "name": "python3",
      "display_name": "Python 3"
    },
    "language_info": {
      "name": "python"
    }
  },
  "cells": [
    {
      "cell_type": "markdown",
      "source": [
        "# Урок 1. Основы клиент-серверного взаимодействия. Работа с API\n"
      ],
      "metadata": {
        "id": "FnE2xKKrhfvM"
      }
    },
    {
      "cell_type": "markdown",
      "source": [
        "1. Посмотреть документацию к API GitHub, разобраться как вывести список репозиториев для конкретного пользователя, сохранить JSON-вывод в файле *.json."
      ],
      "metadata": {
        "id": "v5TTHP9th3uo"
      }
    },
    {
      "cell_type": "code",
      "execution_count": 1,
      "metadata": {
        "id": "mQN457ffhccn"
      },
      "outputs": [],
      "source": [
        "import requests\n",
        "import json"
      ]
    },
    {
      "cell_type": "code",
      "source": [
        "username = 'AleksandraMaslakova'\n",
        "url = f\"https://api.github.com/users/{username}/repos\"\n",
        "\n",
        "req = requests.get(url).json()\n",
        "\n",
        "repo = [el['name'] for el in req]\n",
        "\n",
        "with open(f'{username}_repos.json', 'w') as f:\n",
        "  json.dump(repo, f)"
      ],
      "metadata": {
        "id": "tq4st4Njjb5W"
      },
      "execution_count": 9,
      "outputs": []
    },
    {
      "cell_type": "markdown",
      "source": [
        "2. Изучить список открытых API (https://www.programmableweb.com/category/all/apis). Найти среди них любое, требующее авторизацию (любого типа). Выполнить запросы к нему, пройдя авторизацию. Ответ сервера записать в файл.\n",
        "Если нет желания заморачиваться с поиском, возьмите API вконтакте (https://vk.com/dev/first_guide). Сделайте запрос, чтобы получить список всех сообществ на которые вы подписаны."
      ],
      "metadata": {
        "id": "Wme1YfrvsgyI"
      }
    },
    {
      "cell_type": "code",
      "source": [
        "# dict.1.1.20230603T105841Z.a6a4e61d3b558f8a.6cdf0d049e6a1432c32dd19fe25eb43249797c9b"
      ],
      "metadata": {
        "id": "bkc3N3aesnhz"
      },
      "execution_count": null,
      "outputs": []
    },
    {
      "cell_type": "code",
      "source": [
        "url = \"https://dictionary.yandex.net/api/v1/dicservice.json/lookup\"\n",
        "\n",
        "params = {\"key\": \"dict.1.1.20230603T105841Z.a6a4e61d3b558f8a.6cdf0d049e6a1432c32dd19fe25eb43249797c9b\", #ключ\n",
        "          \"lang\": \"en-ru\", #параметры перевода\n",
        "          \"text\": \"time\" #слово для перевода\n",
        "          }\n",
        "\n",
        "headers = {\"User-Agent\": \"Mozilla/5.0 (Macintosh; Intel Mac OS X 10_15_7) AppleWebKit/537.36 (KHTML, like Gecko) Chrome/110.0.0.0 Safari/537.36\",\n",
        "           \"Accept\": \"*/*\"}\n"
      ],
      "metadata": {
        "id": "t_4SltFk6SPm"
      },
      "execution_count": 14,
      "outputs": []
    },
    {
      "cell_type": "code",
      "source": [
        "responce = requests.get(url, params=params, headers=headers)\n",
        "j_data = responce.json()"
      ],
      "metadata": {
        "id": "CtxXabr-BhRA"
      },
      "execution_count": 22,
      "outputs": []
    },
    {
      "cell_type": "code",
      "source": [
        "with open(f'eng_api.json', 'w') as f:\n",
        "  json.dump(j_data, f)"
      ],
      "metadata": {
        "id": "3OpAJ4BaGFmB"
      },
      "execution_count": 33,
      "outputs": []
    },
    {
      "cell_type": "code",
      "source": [
        "#print(j_data)"
      ],
      "metadata": {
        "colab": {
          "base_uri": "https://localhost:8080/"
        },
        "id": "srdYyS0mE0hK",
        "outputId": "36b00d1a-dedd-4868-8a38-d68c14504cde"
      },
      "execution_count": 18,
      "outputs": [
        {
          "output_type": "stream",
          "name": "stdout",
          "text": [
            "{'head': {}, 'def': [{'text': 'time', 'pos': 'noun', 'ts': 'taɪm', 'tr': [{'text': 'время', 'pos': 'noun', 'gen': 'ср', 'fr': 10, 'syn': [{'text': 'раз', 'pos': 'noun', 'gen': 'м', 'fr': 10}, {'text': 'момент', 'pos': 'noun', 'gen': 'м', 'fr': 5}, {'text': 'срок', 'pos': 'noun', 'gen': 'м', 'fr': 5}, {'text': 'пора', 'pos': 'noun', 'gen': 'ж', 'fr': 5}, {'text': 'период', 'pos': 'noun', 'gen': 'м', 'fr': 1}, {'text': 'момент времени', 'pos': 'noun', 'fr': 1}], 'mean': [{'text': 'period'}, {'text': 'once'}, {'text': 'moment'}, {'text': 'now'}]}, {'text': 'час', 'pos': 'noun', 'gen': 'м', 'fr': 1, 'mean': [{'text': 'hour'}]}, {'text': 'эпоха', 'pos': 'noun', 'gen': 'ж', 'fr': 1, 'mean': [{'text': 'era'}]}, {'text': 'период времени', 'pos': 'noun', 'fr': 1, 'syn': [{'text': 'промежуток времени', 'pos': 'noun', 'fr': 1}], 'mean': [{'text': 'period of time'}]}, {'text': 'тайм', 'pos': 'noun', 'gen': 'м', 'fr': 1, 'mean': [{'text': 'half'}]}, {'text': 'продолжительность', 'pos': 'noun', 'gen': 'ж', 'fr': 1, 'mean': [{'text': 'duration'}]}]}, {'text': 'time', 'pos': 'verb', 'ts': 'taɪm', 'tr': [{'text': 'приурочивать', 'pos': 'verb', 'asp': 'несов', 'fr': 1, 'syn': [{'text': 'приурочить', 'pos': 'verb', 'asp': 'сов', 'fr': 1}], 'mean': [{'text': 'date'}]}]}, {'text': 'time', 'pos': 'adjective', 'ts': 'taɪm', 'tr': [{'text': 'временной', 'pos': 'adjective', 'fr': 1, 'mean': [{'text': 'temporary'}]}]}, {'text': 'time', 'pos': 'adverb', 'ts': 'taɪm', 'tr': [{'text': 'своевременно', 'pos': 'adverb', 'fr': 1, 'mean': [{'text': 'in time'}]}]}]}\n"
          ]
        }
      ]
    }
  ]
}