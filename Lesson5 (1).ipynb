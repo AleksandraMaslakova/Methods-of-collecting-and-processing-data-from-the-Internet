{
  "nbformat": 4,
  "nbformat_minor": 0,
  "metadata": {
    "colab": {
      "provenance": []
    },
    "kernelspec": {
      "name": "python3",
      "display_name": "Python 3"
    },
    "language_info": {
      "name": "python"
    }
  },
  "cells": [
    {
      "cell_type": "code",
      "execution_count": null,
      "metadata": {
        "id": "XHx07G8rToeS"
      },
      "outputs": [],
      "source": [
        "from selenium import webdriver\n",
        "from selenium.webdriver.chrome.options import Options\n",
        "from selenium.webdriver.common.action_chains import ActionChains\n",
        "from pymongo import MongoClient\n",
        "\n",
        "\n",
        "chrome_option = Options()\n",
        "chrome_option.add_argument('--window-size=1700,1000')\n",
        "\n",
        "\n",
        "driver = webdriver.Chrome(executable_path='./chromedriver', options=chrome_option)\n",
        "driver.get('https://www.mvideo.ru/')\n",
        "driver.implicitly_wait(10)\n",
        "actions = ActionChains(driver)\n",
        "\n",
        "product = driver.find_element_by_xpath('/html/body/div[2]/div/div[3]/div/div[7]//li')\n",
        "\n",
        "actions.move_to_element(product)\n",
        "actions.perform()\n",
        "link = driver.find_element_by_xpath('/html/body/div[2]/div/div[3]/div/div[7]/div/div[2]/div/div[1]/a[contains(@class,\"i-icon-fl-arrow-right\")]')\n",
        "\n",
        "new_set = set()\n",
        "for i in range(5):\n",
        "    descriptions = driver.find_elements_by_xpath(\n",
        "        '/html/body/div[2]/div/div[3]/div/div[7]//li/'\n",
        "        '/a[@class=\"fl-product-tile-title__link sel-product-tile-title\"]')\n",
        "    for description in descriptions:\n",
        "        new_set.add(description.text)\n",
        "    link.click()\n",
        "new_list=[]\n",
        "for i in new_set:\n",
        "    new_list.append(i)\n",
        "\n",
        "client = MongoClient('127.0.0.1', 27017)\n",
        "db = client['mvideo']\n",
        "my = db.my\n",
        "\n",
        "my_dict = {'new':new_list}\n",
        "my.insert_one(my_dict)"
      ]
    }
  ]
}