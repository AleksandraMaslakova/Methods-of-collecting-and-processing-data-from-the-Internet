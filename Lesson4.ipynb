{
  "nbformat": 4,
  "nbformat_minor": 0,
  "metadata": {
    "colab": {
      "provenance": []
    },
    "kernelspec": {
      "name": "python3",
      "display_name": "Python 3"
    },
    "language_info": {
      "name": "python"
    }
  },
  "cells": [
    {
      "cell_type": "code",
      "source": [
        "pip install pymongo"
      ],
      "metadata": {
        "colab": {
          "base_uri": "https://localhost:8080/"
        },
        "id": "fUu_mr7A3bSN",
        "outputId": "434efea5-af3e-47c2-83f6-18bf450f9b2a"
      },
      "execution_count": 2,
      "outputs": [
        {
          "output_type": "stream",
          "name": "stdout",
          "text": [
            "Looking in indexes: https://pypi.org/simple, https://us-python.pkg.dev/colab-wheels/public/simple/\n",
            "Collecting pymongo\n",
            "  Downloading pymongo-4.3.3-cp310-cp310-manylinux_2_17_x86_64.manylinux2014_x86_64.whl (492 kB)\n",
            "\u001b[2K     \u001b[90m━━━━━━━━━━━━━━━━━━━━━━━━━━━━━━━━━━━━━━━\u001b[0m \u001b[32m492.9/492.9 kB\u001b[0m \u001b[31m9.2 MB/s\u001b[0m eta \u001b[36m0:00:00\u001b[0m\n",
            "\u001b[?25hCollecting dnspython<3.0.0,>=1.16.0 (from pymongo)\n",
            "  Downloading dnspython-2.3.0-py3-none-any.whl (283 kB)\n",
            "\u001b[2K     \u001b[90m━━━━━━━━━━━━━━━━━━━━━━━━━━━━━━━━━━━━━━\u001b[0m \u001b[32m283.7/283.7 kB\u001b[0m \u001b[31m22.8 MB/s\u001b[0m eta \u001b[36m0:00:00\u001b[0m\n",
            "\u001b[?25hInstalling collected packages: dnspython, pymongo\n",
            "Successfully installed dnspython-2.3.0 pymongo-4.3.3\n"
          ]
        }
      ]
    },
    {
      "cell_type": "code",
      "execution_count": 3,
      "metadata": {
        "id": "nPPUAtI12Q0p"
      },
      "outputs": [],
      "source": [
        "import requests\n",
        "from lxml import html\n",
        "from pprint import pprint\n",
        "from pymongo import MongoClient\n",
        "from pymongo.errors import DuplicateKeyError as dke\n",
        "import re"
      ]
    },
    {
      "cell_type": "code",
      "source": [
        "client = MongoClient('127.0.0.1', 27017)"
      ],
      "metadata": {
        "id": "LinCSQiS2_C_"
      },
      "execution_count": 10,
      "outputs": []
    },
    {
      "cell_type": "code",
      "source": [
        "headers = {'User-Agent': \"Mozilla/5.0 (Macintosh; Intel Mac OS X 10_15_7) AppleWebKit/537.36 (KHTML, like Gecko) Chrome/110.0.0.0 Safari/537.36\",\n",
        "           \"Accept\": \"*/*\"}\n",
        "response = requests.get('https://lenta.ru/', headers=headers)\n",
        "dom = html.fromstring(response.text)"
      ],
      "metadata": {
        "id": "EC0-gyZ03fqm"
      },
      "execution_count": 11,
      "outputs": []
    },
    {
      "cell_type": "code",
      "source": [
        "items = dom.xpath('//div[@class = \"b-yellow-box__wrap\"]/div[@class = \"item\"]')"
      ],
      "metadata": {
        "id": "NHK0aZsB4Nz-"
      },
      "execution_count": 12,
      "outputs": []
    },
    {
      "cell_type": "code",
      "source": [
        "main_link = 'https://lenta.ru'\n",
        "news_lenta = []\n",
        "for item in items:\n",
        "    item_date = {}\n",
        "    news_sourse = 'https://lenta.ru/'\n",
        "    news1 = item.xpath('.//a/text()')\n",
        "    news1 = \" \".join(news1[0].split())  #clean\n",
        "    link1 = item.xpath('.//a/@href')\n",
        "    link = main_link + link1[0]                 #full link\n",
        "    date = '/'.join(link1[0].split('/')[2:5])\n",
        "\n",
        "    item_date['source'] = news_sourse\n",
        "    item_date['news'] = news1\n",
        "    item_date['link'] = link\n",
        "    item_date['date'] = date\n",
        "    news_lenta.append(item_date)\n",
        "pprint(news_lenta)"
      ],
      "metadata": {
        "colab": {
          "base_uri": "https://localhost:8080/"
        },
        "id": "NZzf91dU4z4H",
        "outputId": "a6c4ee69-6182-4ffd-ce66-6150cffcf9fa"
      },
      "execution_count": 14,
      "outputs": [
        {
          "output_type": "stream",
          "name": "stdout",
          "text": [
            "[]\n"
          ]
        }
      ]
    },
    {
      "cell_type": "code",
      "source": [
        "db = client['news_lenta']\n",
        "l_news = db.l_news\n",
        "for i in l_news.find():\n",
        "    print(i)"
      ],
      "metadata": {
        "id": "oIR_sQDe6Azm"
      },
      "execution_count": null,
      "outputs": []
    },
    {
      "cell_type": "code",
      "source": [
        "import datetime"
      ],
      "metadata": {
        "id": "4fN2Nws06_uW"
      },
      "execution_count": 17,
      "outputs": []
    },
    {
      "cell_type": "code",
      "source": [
        "def mailru_news_agg():\n",
        "  url = 'https://news.mail.ru/'\n",
        "  response = requests.get(url, headers=headers)\n",
        "  dom = html.fromstring(response.text)\n",
        "  links = []\n",
        "  links.extend(dom.xpath(\"//table/tr/td[1]/div[@class='daynews__item daynews__item_big']/a/@href\"))\n",
        "  links.extend(dom.xpath(\"//table/tr/td[2]/div[contains(@class, 'daynews__item')]/a/@href\"))\n",
        "  links.extend(dom.xpath(\"//div[@class='js-module']/ul/li[contains(@class,'list__item')]/a/@href\"))\n",
        "  mail_events = []\n",
        "  for link in links:\n",
        "    event = {}\n",
        "    curr_link_response = requests.get(link, headers=headers)\n",
        "    curr_dom = html.fromstring(curr_link_response.text)\n",
        "    event['link'] = link\n",
        "    try:\n",
        "      event['date'] = datetime.datetime.strptime(curr_dom.xpath(\".//h1[@class='hdr__inner']/../../../../div[contains(@class, 'breadcrumbs')]/span/span/span[contains(@class, 'js-ago')]/@datetime\")[0][0:10], '%Y-%m-%d').date()\n",
        "      event['source'] = curr_dom.xpath(\".//h1[@class='hdr__inner']/../../../../div[contains(@class, 'breadcrumbs')]/span/span/a/span/text()\")[0]\n",
        "      event['name'] = curr_dom.xpath(\".//h1[@class='hdr__inner']/text()\")[0]\n",
        "    except Exception:\n",
        "      continue\n",
        "    mail_events.append(event)\n",
        "    return mail_events"
      ],
      "metadata": {
        "id": "9ErZ385k9CWJ"
      },
      "execution_count": 21,
      "outputs": []
    },
    {
      "cell_type": "code",
      "source": [
        "db = client['mail_news']\n",
        "mail_news = db.mail_news\n",
        "for i in mail_news.find():\n",
        "    print(i)"
      ],
      "metadata": {
        "id": "LDmlC3WT-B2C"
      },
      "execution_count": null,
      "outputs": []
    }
  ]
}